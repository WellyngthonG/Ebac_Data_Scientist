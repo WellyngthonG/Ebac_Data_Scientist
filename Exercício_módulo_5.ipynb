{
  "nbformat": 4,
  "nbformat_minor": 0,
  "metadata": {
    "colab": {
      "provenance": [],
      "authorship_tag": "ABX9TyM8p4+NLFoDjZJZjbR4ULtu",
      "include_colab_link": true
    },
    "kernelspec": {
      "name": "python3",
      "display_name": "Python 3"
    },
    "language_info": {
      "name": "python"
    }
  },
  "cells": [
    {
      "cell_type": "markdown",
      "metadata": {
        "id": "view-in-github",
        "colab_type": "text"
      },
      "source": [
        "<a href=\"https://colab.research.google.com/github/WellyngthonG/Ebac_Data_Scientist/blob/main/Exerc%C3%ADcio_m%C3%B3dulo_5.ipynb\" target=\"_parent\"><img src=\"https://colab.research.google.com/assets/colab-badge.svg\" alt=\"Open In Colab\"/></a>"
      ]
    },
    {
      "cell_type": "code",
      "execution_count": 2,
      "metadata": {
        "colab": {
          "base_uri": "https://localhost:8080/"
        },
        "id": "RqsV7SHBugXB",
        "outputId": "1d9967fc-ef4a-42e8-baaf-ef2a0c3be08b"
      },
      "outputs": [
        {
          "output_type": "stream",
          "name": "stdout",
          "text": [
            "Digite o primeiro número: 10\n",
            "Digite o segundo número: 5\n",
            "\n",
            "Aqui estão os resultados das operações:\n",
            "Soma: 15.0\n",
            "Subtração: 5.0\n",
            "Multiplicação: 50.0\n",
            "Divisão: 2.0\n"
          ]
        }
      ],
      "source": [
        "# Realizar operações matemáticas\n",
        "# Receber os números do usuário\n",
        "num1 = float(input(\"Digite o primeiro número: \"))\n",
        "num2 = float(input(\"Digite o segundo número: \"))\n",
        "\n",
        "soma = num1 + num2\n",
        "subtracao = num1 - num2\n",
        "multiplicacao = num1 * num2\n",
        "divisao = num1 / num2 if num2 != 0 else \"Divisão por zero não é permitida\"\n",
        "\n",
        "# Mostrar os resultados\n",
        "print(\"\\nAqui estão os resultados das operações:\")\n",
        "print(f\"Soma: {soma}\")\n",
        "print(f\"Subtração: {subtracao}\")\n",
        "print(f\"Multiplicação: {multiplicacao}\")\n",
        "print(f\"Divisão: {divisao}\")\n"
      ]
    },
    {
      "cell_type": "code",
      "source": [
        "while True:  # Laço de repetição para manter o programa rodando\n",
        "    print(\"\\nEscolha a operação que deseja realizar:\")\n",
        "    print(\"1 - Soma\")\n",
        "    print(\"2 - Subtração\")\n",
        "    print(\"3 - Multiplicação\")\n",
        "    print(\"4 - Divisão\")\n",
        "    print(\"5 - Sair do programa\")\n",
        "\n",
        "    # Receber a escolha do usuário\n",
        "    escolha = input(\"Digite o número da operação desejada: \")\n",
        "\n",
        "    # Realizar a operação escolhida\n",
        "    if escolha == \"1\":\n",
        "        print(f\"Resultado da Soma: {num1 + num2}\")\n",
        "    elif escolha == \"2\":\n",
        "        print(f\"Resultado da Subtração: {num1 - num2}\")\n",
        "    elif escolha == \"3\":\n",
        "        print(f\"Resultado da Multiplicação: {num1 * num2}\")\n",
        "    elif escolha == \"4\":\n",
        "        if num2 != 0:\n",
        "            print(f\"Resultado da Divisão: {num1 / num2}\")\n",
        "        else:\n",
        "            print(\"Divisão por zero não é permitida!\")\n",
        "    elif escolha == \"5\":\n",
        "        print(\"Encerrando o programa. Até mais!\")\n",
        "        break  # Sai do laço e encerra o programa\n",
        "    else:\n",
        "        print(\"Opção inválida! Tente novamente.\")\n",
        "\n",
        "    # Perguntar ao usuário se deseja realizar outra operação\n",
        "    continuar = input(\"\\nDeseja realizar outra operação com os mesmos números? (s/n): \")\n",
        "    if continuar.lower() != \"s\":\n",
        "        break  # Sai do laço se o usuário digitar algo diferente de \"s\"\n",
        "\n",
        "# Mensagem final\n",
        "print(\"\\nObrigado por usar o programa!\")\n"
      ],
      "metadata": {
        "colab": {
          "base_uri": "https://localhost:8080/"
        },
        "id": "Hq0bjQnruj8u",
        "outputId": "05a5611f-3b06-45cc-93d4-690a2d5945e8"
      },
      "execution_count": 3,
      "outputs": [
        {
          "output_type": "stream",
          "name": "stdout",
          "text": [
            "\n",
            "Escolha a operação que deseja realizar:\n",
            "1 - Soma\n",
            "2 - Subtração\n",
            "3 - Multiplicação\n",
            "4 - Divisão\n",
            "5 - Sair do programa\n",
            "Digite o número da operação desejada: 3\n",
            "Resultado da Multiplicação: 50.0\n",
            "\n",
            "Deseja realizar outra operação com os mesmos números? (s/n): n\n",
            "\n",
            "Obrigado por usar o programa!\n"
          ]
        }
      ]
    }
  ]
}